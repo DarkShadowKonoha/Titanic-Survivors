{
 "cells": [
  {
   "cell_type": "code",
   "execution_count": 8,
   "metadata": {},
   "outputs": [],
   "source": [
    "import math"
   ]
  },
  {
   "cell_type": "code",
   "execution_count": 9,
   "metadata": {},
   "outputs": [],
   "source": [
    "from sklearn import preprocessing as pp"
   ]
  },
  {
   "cell_type": "code",
   "execution_count": 18,
   "metadata": {},
   "outputs": [],
   "source": [
    "import numpy as np\n",
    "import pandas as pd"
   ]
  },
  {
   "cell_type": "code",
   "execution_count": 19,
   "metadata": {},
   "outputs": [],
   "source": [
    "#data = np.genfromtxt(\"datasets/training_titanic_x_y_train.csv\", delimiter=\",\",dtype=None)\n",
    "#data.shape\n",
    "\n",
    "# Change path as required\n",
    "data=pd.read_csv(\"train.csv\")\n",
    "data=data.drop([\"Name\",\"Cabin\",\"Ticket\"], axis=1)\n",
    "\n",
    "genders = {\"male\": 0, \"female\": 1}\n",
    "data1 = [data]\n",
    "\n",
    "# Replacing male and female with 0 and 1 respectively\n",
    "\n",
    "for dataset in data1:\n",
    "    dataset['Sex'] = dataset['Sex'].map(genders)\n",
    "    \n",
    "    \n",
    "embarked = {\"S\": 0, \"Q\": 1, \"C\": 2}\n",
    "data11 = [data]\n",
    "\n",
    "# Replacing embarked Status S,Q,C with 0,1,2 respectively\n",
    "\n",
    "\n",
    "for dataset in data11:\n",
    "    dataset['Embarked'] = dataset['Embarked'].map(embarked)\n",
    "    \n",
    "mean = data[\"Age\"].mean()\n",
    "std = data[\"Age\"].std()"
   ]
  },
  {
   "cell_type": "code",
   "execution_count": 20,
   "metadata": {},
   "outputs": [
    {
     "name": "stdout",
     "output_type": "stream",
     "text": [
      "Pclass      0\n",
      "Sex         0\n",
      "Age         0\n",
      "SibSp       0\n",
      "Parch       0\n",
      "Fare        0\n",
      "Embarked    0\n",
      "Survived    0\n",
      "dtype: int64\n"
     ]
    },
    {
     "data": {
      "text/plain": [
       "(668, 8)"
      ]
     },
     "execution_count": 20,
     "metadata": {},
     "output_type": "execute_result"
    }
   ],
   "source": [
    "# filling Age column NaN values with mean\n",
    "data.Age.fillna(mean,inplace=True)\n",
    "data.Embarked.fillna(0,inplace=True)\n",
    "\n",
    "# checking if any null values left in any feature columns\n",
    "\n",
    "d = data.isnull().sum()\n",
    "print(d)\n",
    "\n",
    "data=data.values\n",
    "data.shape"
   ]
  },
  {
   "cell_type": "code",
   "execution_count": 21,
   "metadata": {},
   "outputs": [
    {
     "name": "stdout",
     "output_type": "stream",
     "text": [
      "(668, 7) (668,)\n"
     ]
    }
   ],
   "source": [
    "# data\n",
    "x1= data[:,:-1]\n",
    "# Target column\n",
    "y1= data[:,-1]\n",
    "\n",
    "# Taking a look at shapes of X1 and Y1\n",
    "print(x1.shape,y1.shape)"
   ]
  },
  {
   "cell_type": "code",
   "execution_count": 23,
   "metadata": {},
   "outputs": [
    {
     "name": "stdout",
     "output_type": "stream",
     "text": [
      "Pclass      0\n",
      "Sex         0\n",
      "Age         0\n",
      "SibSp       0\n",
      "Parch       0\n",
      "Fare        0\n",
      "Embarked    0\n",
      "dtype: int64\n"
     ]
    },
    {
     "data": {
      "text/plain": [
       "(223, 7)"
      ]
     },
     "execution_count": 23,
     "metadata": {},
     "output_type": "execute_result"
    }
   ],
   "source": [
    "#data1 = np.genfromtxt(\"datasets/test_titanic_x_test.csv\", delimiter=\",\")\n",
    "#data1.shape\n",
    "data1=pd.read_csv(\"test.csv\")\n",
    "data1=data1.drop([\"Name\",\"Cabin\",\"Ticket\"], axis=1)\n",
    "\n",
    "genders = {\"male\": 0, \"female\": 1}\n",
    "data2 = [data1]\n",
    "\n",
    "# Replacing male and female with 0 and 1 respectively\n",
    "\n",
    "for dataset in data2:\n",
    "    dataset['Sex'] = dataset['Sex'].map(genders)\n",
    "\n",
    "embarked = {\"S\": 0, \"Q\": 1, \"C\": 2}\n",
    "data22 = [data1]\n",
    "\n",
    "# Replacing embarked Status S,Q,C with 0,1,2 respectively\n",
    "\n",
    "for dataset in data22:\n",
    "    dataset['Embarked'] = dataset['Embarked'].map(embarked)    \n",
    "\n",
    "    \n",
    "mean = data1[\"Age\"].mean()\n",
    "std = data1[\"Age\"].std() \n",
    "# filling Age column NaN values with mean\n",
    "data1.Age.fillna(mean,inplace=True)\n",
    "data1.Embarked.fillna(0,inplace=True)\n",
    "    \n",
    "# checking if any null values left in any feature columns\n",
    "d = data1.isnull().sum()\n",
    "print(d) \n",
    "\n",
    "#data1.head(8)   \n",
    "data1=data1.values\n",
    "data1.shape"
   ]
  },
  {
   "cell_type": "code",
   "execution_count": 24,
   "metadata": {},
   "outputs": [
    {
     "data": {
      "text/plain": [
       "((668, 7), (223, 7))"
      ]
     },
     "execution_count": 24,
     "metadata": {},
     "output_type": "execute_result"
    }
   ],
   "source": [
    "x1.shape, data1.shape"
   ]
  },
  {
   "cell_type": "code",
   "execution_count": 25,
   "metadata": {},
   "outputs": [
    {
     "name": "stdout",
     "output_type": "stream",
     "text": [
      "[[-3.56680918e-01 -7.51267469e-01 -1.70280321e+00 ...  6.94117561e-01\n",
      "   1.03461451e-01 -5.87892987e-01]\n",
      " [-1.56002866e+00  1.33108386e+00  1.51439177e+00 ... -4.76767618e-01\n",
      "  -1.35477405e-01 -5.87892987e-01]\n",
      " [ 8.46666826e-01 -7.51267469e-01 -4.53892900e-04 ... -4.76767618e-01\n",
      "  -5.37176352e-01  6.54868137e-01]\n",
      " ...\n",
      " [-1.56002866e+00  1.33108386e+00 -9.96589681e-01 ... -4.76767618e-01\n",
      "   1.69663741e+00  1.89762926e+00]\n",
      " [ 8.46666826e-01 -7.51267469e-01  1.04358275e+00 ... -4.76767618e-01\n",
      "  -5.65606207e-01 -5.87892987e-01]\n",
      " [-3.56680918e-01 -7.51267469e-01  5.33539639e-01 ...  1.86500274e+00\n",
      "  -1.33914039e-01 -5.87892987e-01]]\n"
     ]
    }
   ],
   "source": [
    "# Scaling data using StandardScaler()\n",
    "scaler=pp.StandardScaler()\n",
    "scaler.fit(x1)\n",
    "x1=scaler.transform(x1)\n",
    "data1=scaler.transform(data1)\n",
    "print(data1)"
   ]
  },
  {
   "cell_type": "code",
   "execution_count": 26,
   "metadata": {},
   "outputs": [],
   "source": [
    "import pandas as pd\n",
    "# adding a new column 'c' with value 1 for all rows, I'm taking C value to be 1 for every datapoint, for both train and test data\n",
    "df=pd.DataFrame(x1)\n",
    "df[\"c\"]= 1\n",
    "x2=df.values\n",
    "df1=pd.DataFrame(data1)\n",
    "df1[\"c\"]= 1\n",
    "x3=df1.values"
   ]
  },
  {
   "cell_type": "code",
   "execution_count": 27,
   "metadata": {},
   "outputs": [],
   "source": [
    "def step_gradient(points, learning_rate, m):\n",
    "    m_slope = np.zeros(8)\n",
    "    M = len(points)\n",
    "    for i in range(M):\n",
    "        x = points[i,:]\n",
    "        y = y1[i]\n",
    "        for j in range(len(x)):\n",
    "            s=[]\n",
    "            for k in range(len(x)):\n",
    "                s.append(x[k]*m[k])\n",
    "            h = 1/ (1+ math.exp(-1*sum(s)))\n",
    "            m_slope[j] += (-1/M)* (y - h) * x[j]\n",
    "\n",
    "    new_m = m - learning_rate*m_slope\n",
    "    \n",
    "    return new_m"
   ]
  },
  {
   "cell_type": "code",
   "execution_count": 28,
   "metadata": {},
   "outputs": [],
   "source": [
    "def gd(points, learning_rate, num_iterations):\n",
    "    m = np.zeros(8)\n",
    "    #c = 0\n",
    "    for i in range(num_iterations):\n",
    "        m  = step_gradient(points, learning_rate, m )\n",
    "        # printing cost after every 10th iteration\n",
    "        if(i%10==0):\n",
    "            print(i, \" Cost: \", cost(points, m))\n",
    "    return m"
   ]
  },
  {
   "cell_type": "markdown",
   "metadata": {},
   "source": [
    "In the case of logistic regression cost function is :\n",
    "\n",
    "\\begin{equation*}\n",
    " \\left( \\sum_{k=1}^n (y - {\\frac{1}{1+e^{-mx} }})^2  \\right)\n",
    "\\end{equation*}"
   ]
  },
  {
   "cell_type": "markdown",
   "metadata": {},
   "source": [
    "So here we use CROSS ENTROPY to measure the cost of our model.\n",
    "<pre style=\"color:red\">\n",
    "                cost = -log(h(x))   if y = 1\n",
    "                       -log(1-h(x)) if y = 0\n",
    "</pre>\n",
    "here h(x) is the hypothesis function for logistic regression(i.e sigmoid function) and y is the actual true output ,i.e the actual label , for the current considered values of features."
   ]
  },
  {
   "cell_type": "code",
   "execution_count": 29,
   "metadata": {},
   "outputs": [],
   "source": [
    "def cost(points, m):\n",
    "    total_cost = 0\n",
    "    M = len(points)\n",
    "    for i in range(M):\n",
    "        x = points[i,:]\n",
    "        y = y1[i]\n",
    "        b=[]\n",
    "        for j in range(len(m)):\n",
    "            b.append (m[j]*x[j])\n",
    "        h = 1/ (1+math.exp(-1*sum(b)))\n",
    "        total_cost += (-1/M)* (y*(math.log(h))+((1-y)*(math.log(1-h))))\n",
    "        #print(total_cost)\n",
    "    return total_cost\n",
    "                                                          "
   ]
  },
  {
   "cell_type": "code",
   "execution_count": 30,
   "metadata": {},
   "outputs": [],
   "source": [
    "def predicted(x3,m):\n",
    "    y_p=[]\n",
    "    for i in range(len(x3)):\n",
    "        b=[]\n",
    "        x = x3[i,:]\n",
    "        for j in range(len(m)):\n",
    "            b.append(m[j]*x[j])\n",
    "        h = 1/ (1+ math.exp(-1*sum(b)))   \n",
    "        if h>0.5:\n",
    "            y_p.append(1)\n",
    "        elif h<=0.5:\n",
    "            y_p.append(0)    \n",
    "    return(y_p)"
   ]
  },
  {
   "cell_type": "code",
   "execution_count": 39,
   "metadata": {},
   "outputs": [],
   "source": [
    "def run():\n",
    "    learning_rate = 0.1\n",
    "    num_iterations = 500\n",
    "    m  = gd(x2, learning_rate, num_iterations)\n",
    "    slope=m\n",
    "    y_predicted=predicted(x3,slope)\n",
    "    print()\n",
    "    print('--------m-------')\n",
    "    print()\n",
    "    print(m)\n",
    "    print()\n",
    "    print('--------Y_Predictions--------')\n",
    "    print()\n",
    "    print(y_predicted)\n",
    "    print()\n",
    "    print('-------Len of Y_Predictions---------')\n",
    "    print()\n",
    "    print(len(y_predicted))\n",
    "    print()\n",
    "    np.savetxt(\"y_titanic.csv\",y_predicted,fmt='%.1f')"
   ]
  },
  {
   "cell_type": "code",
   "execution_count": 40,
   "metadata": {
    "tags": []
   },
   "outputs": [
    {
     "name": "stdout",
     "output_type": "stream",
     "text": [
      "0  Cost:  0.6805943185748515\n",
      "10  Cost:  0.5939265277758915\n",
      "20  Cost:  0.547980363391138\n",
      "30  Cost:  0.5208735521939919\n",
      "40  Cost:  0.5035439297689173\n",
      "50  Cost:  0.4918026118567189\n",
      "60  Cost:  0.4834999591580369\n",
      "70  Cost:  0.4774355109152223\n",
      "80  Cost:  0.4728924184321809\n",
      "90  Cost:  0.4694192139933803\n",
      "100  Cost:  0.4667191881641422\n",
      "110  Cost:  0.46459050597140916\n",
      "120  Cost:  0.46289194299845227\n",
      "130  Cost:  0.46152234108113843\n",
      "140  Cost:  0.46040779325781067\n",
      "150  Cost:  0.459493378201643\n",
      "160  Cost:  0.4587376755738396\n",
      "170  Cost:  0.45810903740290243\n",
      "180  Cost:  0.45758299978917505\n",
      "190  Cost:  0.4571404532403933\n",
      "200  Cost:  0.4567663284318294\n",
      "210  Cost:  0.45644863866716\n",
      "220  Cost:  0.4561777732518199\n",
      "230  Cost:  0.45594596995192255\n",
      "240  Cost:  0.4557469169601217\n",
      "250  Cost:  0.45557544963744445\n",
      "260  Cost:  0.4554273173746045\n",
      "270  Cost:  0.4552990028545862\n",
      "280  Cost:  0.4551875808416376\n",
      "290  Cost:  0.4550906070446146\n",
      "300  Cost:  0.455006030048976\n",
      "310  Cost:  0.4549321210786337\n",
      "320  Cost:  0.45486741763734284\n",
      "330  Cost:  0.4548106780275339\n",
      "340  Cost:  0.45476084444828296\n",
      "350  Cost:  0.4547170129005427\n",
      "360  Cost:  0.45467840852465974\n",
      "370  Cost:  0.4546443652964719\n",
      "380  Cost:  0.45461430923856505\n",
      "390  Cost:  0.4545877444803993\n",
      "400  Cost:  0.45456424163814196\n",
      "410  Cost:  0.454543428091745\n",
      "420  Cost:  0.45452497982038337\n",
      "430  Cost:  0.45450861452309593\n",
      "440  Cost:  0.45449408580350226\n",
      "450  Cost:  0.45448117823879747\n",
      "460  Cost:  0.4544697031862118\n",
      "470  Cost:  0.45445949520664125\n",
      "480  Cost:  0.4544504090064391\n",
      "490  Cost:  0.4544423168156218\n",
      "\n",
      "--------m-------\n",
      "\n",
      "[-0.86607655  1.28723986 -0.48826995 -0.32829487 -0.13482588  0.07371549\n",
      "  0.15063765 -0.50443527]\n",
      "\n",
      "--------Y_Predictions--------\n",
      "\n",
      "[0, 1, 0, 1, 0, 0, 0, 0, 1, 0, 1, 0, 1, 1, 0, 0, 0, 0, 0, 1, 1, 0, 1, 1, 0, 1, 0, 0, 1, 1, 0, 0, 0, 0, 0, 1, 1, 0, 0, 0, 1, 0, 0, 0, 1, 1, 0, 1, 0, 0, 0, 1, 1, 1, 0, 0, 0, 0, 0, 0, 0, 0, 1, 1, 1, 0, 0, 1, 1, 0, 0, 0, 1, 0, 0, 1, 1, 0, 0, 0, 0, 1, 0, 0, 0, 1, 1, 1, 0, 0, 1, 0, 0, 1, 0, 0, 0, 0, 0, 1, 1, 0, 1, 0, 1, 1, 0, 0, 0, 0, 0, 1, 1, 0, 1, 0, 0, 1, 0, 0, 0, 0, 0, 0, 1, 0, 0, 0, 0, 1, 0, 0, 0, 0, 0, 0, 1, 1, 1, 0, 0, 0, 0, 0, 0, 0, 0, 0, 1, 1, 1, 0, 0, 0, 1, 0, 0, 1, 0, 0, 0, 1, 1, 1, 1, 0, 1, 0, 1, 1, 1, 1, 1, 0, 1, 0, 0, 0, 0, 1, 0, 0, 0, 1, 1, 0, 1, 0, 1, 0, 0, 0, 1, 0, 0, 1, 1, 1, 1, 1, 0, 1, 0, 0, 0, 0, 0, 0, 1, 1, 0, 1, 0, 0, 1, 1, 0, 0, 0, 0, 1, 0, 0]\n",
      "\n",
      "-------Len of Y_Predictions---------\n",
      "\n",
      "223\n",
      "\n"
     ]
    }
   ],
   "source": [
    "run()"
   ]
  },
  {
   "cell_type": "code",
   "execution_count": null,
   "metadata": {},
   "outputs": [],
   "source": []
  },
  {
   "cell_type": "code",
   "execution_count": null,
   "metadata": {},
   "outputs": [],
   "source": []
  }
 ],
 "metadata": {
  "kernelspec": {
   "display_name": "Python 3 (ipykernel)",
   "language": "python",
   "name": "python3"
  },
  "language_info": {
   "codemirror_mode": {
    "name": "ipython",
    "version": 3
   },
   "file_extension": ".py",
   "mimetype": "text/x-python",
   "name": "python",
   "nbconvert_exporter": "python",
   "pygments_lexer": "ipython3",
   "version": "3.9.7"
  }
 },
 "nbformat": 4,
 "nbformat_minor": 4
}
